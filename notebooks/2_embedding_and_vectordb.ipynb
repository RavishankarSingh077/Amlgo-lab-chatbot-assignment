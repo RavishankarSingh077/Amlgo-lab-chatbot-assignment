{
 "cells": [
  {
   "cell_type": "markdown",
   "id": "47da7840",
   "metadata": {},
   "source": [
    "# 2. Generate Embeddings and Save to Chroma VectorDB"
   ]
  },
  {
   "cell_type": "code",
   "execution_count": null,
   "id": "5f1685bf",
   "metadata": {},
   "outputs": [],
   "source": [
    "from langchain_community.vectorstores import Chroma\n",
    "from langchain_huggingface import HuggingFaceEmbeddings\n",
    "import json\n",
    "\n",
    "with open(\"../chunks/chunks.json\", \"r\", encoding=\"utf-8\") as f:\n",
    "    chunk_texts = json.load(f)\n",
    "\n",
    "from langchain.docstore.document import Document\n",
    "chunks = [Document(page_content=text) for text in chunk_texts]\n",
    "\n",
    "embeddings = HuggingFaceEmbeddings(model_name=\"sentence-transformers/all-MiniLM-L6-v2\")\n",
    "vectorstore = Chroma.from_documents(chunks, embedding=embeddings, persist_directory=\"../vectordb\")\n",
    "\n",
    "print(\"Vectorstore created and saved in ../vectordb\")\n"
   ]
  }
 ],
 "metadata": {},
 "nbformat": 4,
 "nbformat_minor": 5
}
